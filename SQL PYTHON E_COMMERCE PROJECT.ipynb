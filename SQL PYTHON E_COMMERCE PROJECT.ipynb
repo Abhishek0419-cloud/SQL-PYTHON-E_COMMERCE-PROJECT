{
 "cells": [
  {
   "cell_type": "code",
   "execution_count": 10,
   "id": "d940bf9d-fef6-4049-988d-813f04882c81",
   "metadata": {},
   "outputs": [
    {
     "name": "stdout",
     "output_type": "stream",
     "text": [
      "Processing customers.csv\n",
      "NaN values before replacement:\n",
      "customer_id                 0\n",
      "customer_unique_id          0\n",
      "customer_zip_code_prefix    0\n",
      "customer_city               0\n",
      "customer_state              0\n",
      "dtype: int64\n",
      "\n",
      "Processing orders.csv\n",
      "NaN values before replacement:\n",
      "order_id                            0\n",
      "customer_id                         0\n",
      "order_status                        0\n",
      "order_purchase_timestamp            0\n",
      "order_approved_at                 160\n",
      "order_delivered_carrier_date     1783\n",
      "order_delivered_customer_date    2965\n",
      "order_estimated_delivery_date       0\n",
      "dtype: int64\n",
      "\n",
      "Processing sellers.csv\n",
      "NaN values before replacement:\n",
      "seller_id                 0\n",
      "seller_zip_code_prefix    0\n",
      "seller_city               0\n",
      "seller_state              0\n",
      "dtype: int64\n",
      "\n",
      "Processing products.csv\n",
      "NaN values before replacement:\n",
      "product_id                      0\n",
      "product category              610\n",
      "product_name_length           610\n",
      "product_description_length    610\n",
      "product_photos_qty            610\n",
      "product_weight_g                2\n",
      "product_length_cm               2\n",
      "product_height_cm               2\n",
      "product_width_cm                2\n",
      "dtype: int64\n",
      "\n",
      "Processing geolocation.csv\n",
      "NaN values before replacement:\n",
      "geolocation_zip_code_prefix    0\n",
      "geolocation_lat                0\n",
      "geolocation_lng                0\n",
      "geolocation_city               0\n",
      "geolocation_state              0\n",
      "dtype: int64\n",
      "\n",
      "Processing order_items.csv\n",
      "NaN values before replacement:\n",
      "order_id               0\n",
      "order_item_id          0\n",
      "product_id             0\n",
      "seller_id              0\n",
      "shipping_limit_date    0\n",
      "price                  0\n",
      "freight_value          0\n",
      "dtype: int64\n",
      "\n",
      "Processing payments.csv\n",
      "NaN values before replacement:\n",
      "order_id                0\n",
      "payment_sequential      0\n",
      "payment_type            0\n",
      "payment_installments    0\n",
      "payment_value           0\n",
      "dtype: int64\n",
      "\n"
     ]
    }
   ],
   "source": [
    "import pandas as pd\n",
    "import mysql.connector\n",
    "import os\n",
    "\n",
    "# List of CSV files and their corresponding table names\n",
    "csv_files = [\n",
    "    ('customers.csv', 'customers'),\n",
    "    ('orders.csv', 'orders'),\n",
    "    ('sellers.csv', 'sellers'),\n",
    "    ('products.csv', 'products'),\n",
    "    ('geolocation.csv', 'geolocation'),\n",
    "    ('order_items.csv','order_items'),\n",
    "    ('payments.csv', 'payments')  # Added payments.csv for specific handling\n",
    "]\n",
    "\n",
    "# Connect to the MySQL database\n",
    "conn = mysql.connector.connect(\n",
    "    host='localhost',\n",
    "    user='root',\n",
    "    password='1234',\n",
    "    database='e_commerce'\n",
    ")\n",
    "cursor = conn.cursor()\n",
    "\n",
    "# Folder containing the CSV files\n",
    "folder_path = 'C:/Users/Dell/Downloads/Vendor_Analysis'\n",
    "\n",
    "def get_sql_type(dtype):\n",
    "    if pd.api.types.is_integer_dtype(dtype):\n",
    "        return 'INT'\n",
    "    elif pd.api.types.is_float_dtype(dtype):\n",
    "        return 'FLOAT'\n",
    "    elif pd.api.types.is_bool_dtype(dtype):\n",
    "        return 'BOOLEAN'\n",
    "    elif pd.api.types.is_datetime64_any_dtype(dtype):\n",
    "        return 'DATETIME'\n",
    "    else:\n",
    "        return 'TEXT'\n",
    "\n",
    "for csv_file, table_name in csv_files:\n",
    "    file_path = os.path.join(folder_path, csv_file)\n",
    "    \n",
    "    # Read the CSV file into a pandas DataFrame\n",
    "    df = pd.read_csv(file_path)\n",
    "    \n",
    "    # Replace NaN with None to handle SQL NULL\n",
    "    df = df.where(pd.notnull(df), None)\n",
    "    \n",
    "    # Debugging: Check for NaN values\n",
    "    print(f\"Processing {csv_file}\")\n",
    "    print(f\"NaN values before replacement:\\n{df.isnull().sum()}\\n\")\n",
    "\n",
    "    # Clean column names\n",
    "    df.columns = [col.replace(' ', '_').replace('-', '_').replace('.', '_') for col in df.columns]\n",
    "\n",
    "    # Generate the CREATE TABLE statement with appropriate data types\n",
    "    columns = ', '.join([f'`{col}` {get_sql_type(df[col].dtype)}' for col in df.columns])\n",
    "    create_table_query = f'CREATE TABLE IF NOT EXISTS `{table_name}` ({columns})'\n",
    "    cursor.execute(create_table_query)\n",
    "\n",
    "    # Insert DataFrame data into the MySQL table\n",
    "    for _, row in df.iterrows():\n",
    "        # Convert row to tuple and handle NaN/None explicitly\n",
    "        values = tuple(None if pd.isna(x) else x for x in row)\n",
    "        sql = f\"INSERT INTO `{table_name}` ({', '.join(['`' + col + '`' for col in df.columns])}) VALUES ({', '.join(['%s'] * len(row))})\"\n",
    "        cursor.execute(sql, values)\n",
    "\n",
    "    # Commit the transaction for the current CSV file\n",
    "    conn.commit()\n",
    "\n",
    "# Close the connection\n",
    "conn.close()"
   ]
  },
  {
   "cell_type": "code",
   "execution_count": 1,
   "id": "1f3082e1-f24e-45e9-b495-b35703916fa3",
   "metadata": {},
   "outputs": [],
   "source": [
    "import pandas as pd;\n",
    "import matplotlib.pyplot as plt;\n",
    "import seaborn as sns;\n",
    "import mysql.connector;\n",
    "import numpy as np;\n",
    "\n",
    "db = mysql.connector.connect(host = \"localhost\",\n",
    "                            username = \"root\",\n",
    "                            password = \"1234\",\n",
    "                            database = \"e_commerce\")\n",
    "\n",
    "cur = db.cursor()\n",
    "\n"
   ]
  },
  {
   "cell_type": "markdown",
   "id": "6e600406-75e8-4b7c-838b-98b044131cc2",
   "metadata": {},
   "source": [
    "BASIC QUERIES"
   ]
  },
  {
   "cell_type": "markdown",
   "id": "8f0115c5-c7a9-4342-9154-9ff9abbe2714",
   "metadata": {},
   "source": [
    "List all unique cities where customers are located"
   ]
  },
  {
   "cell_type": "code",
   "execution_count": null,
   "id": "108ae53d-dcf7-4c31-a01c-22ba3e015ee2",
   "metadata": {},
   "outputs": [],
   "source": [
    "query = \"\"\"select distinct(customer_city) from customers\"\"\"\n",
    "cur.execute(query)\n",
    "data = cur.fetchall()\n",
    "data\n",
    " "
   ]
  },
  {
   "cell_type": "markdown",
   "id": "43b4a8b3-d08e-4181-8b9d-8181bf312c2e",
   "metadata": {},
   "source": [
    " Count the number of orders placed in 2017."
   ]
  },
  {
   "cell_type": "code",
   "execution_count": null,
   "id": "08438a55-e8f8-46ad-a50f-da4cd6520ba6",
   "metadata": {},
   "outputs": [],
   "source": [
    "query = \"\"\"select count(order_id) from orders where year(order_purchase_timestamp) = 2017 \"\"\"\n",
    "cur.execute(query)\n",
    "data = cur.fetchall()\n",
    "data\n"
   ]
  },
  {
   "cell_type": "markdown",
   "id": "04534e1b-1bc0-408c-ab37-1d44da6c2b4a",
   "metadata": {},
   "source": [
    " Find the total sales per category."
   ]
  },
  {
   "cell_type": "code",
   "execution_count": null,
   "id": "1183742b-689d-4050-992e-408b89b2fc9a",
   "metadata": {},
   "outputs": [],
   "source": [
    "query = \"\"\"select upper(products.product_category) category,\n",
    "round(sum(payments.payment_value),2) sales\n",
    "from products join order_items\n",
    "on products.product_id = order_items.product_id \n",
    "join payments on payments.order_id = order_items.order_id group by category \"\"\"\n",
    "cur.execute(query)\n",
    "data = cur.fetchall()\n",
    "data\n",
    "\n",
    "df = pd.DataFrame(data,columns = [\"Category\",\"Sales\"] )\n",
    "df\n"
   ]
  },
  {
   "cell_type": "markdown",
   "id": "f907cdc4-5682-454e-8b19-022450b3e38e",
   "metadata": {},
   "source": [
    "Calculate the percentage of orders that were paid in installments.\n"
   ]
  },
  {
   "cell_type": "code",
   "execution_count": null,
   "id": "a523d439-d259-422b-a131-b65513b2fb92",
   "metadata": {},
   "outputs": [],
   "source": [
    "query = \"\"\"select sum(case when payment_installments >=1 then 1\n",
    "else 0 end) /count(*) * 100 from payments \"\"\"\n",
    "cur.execute(query)\n",
    "data = cur.fetchall()\n",
    "data"
   ]
  },
  {
   "cell_type": "markdown",
   "id": "e859fd79-82ef-45f4-86d5-416ceb92d668",
   "metadata": {},
   "source": [
    "Count the number of customers from each state"
   ]
  },
  {
   "cell_type": "code",
   "execution_count": null,
   "id": "ae69b0be-316d-4b8a-b1ac-cb283535b1e1",
   "metadata": {},
   "outputs": [],
   "source": [
    "query = \"\"\"select customer_state,count(customer_id) from customers  group by  customer_state; \"\"\"\n",
    "cur.execute(query)\n",
    "data = cur.fetchall()\n",
    "df = pd.DataFrame(data,columns = [\"Customer_State\",\"Total_Customers\"])\n",
    "df\n",
    "df = df.sort_values(by = \"Total_Customers\" , ascending = False)\n",
    "plt.figure(figsize=(12, 6))\n",
    "plt.xticks(rotation = 90)\n",
    "plt.bar(df[\"Customer_State\"], df[\"Total_Customers\"])\n",
    "\n",
    "plt.show()\n"
   ]
  },
  {
   "cell_type": "markdown",
   "id": "560903de-acca-415b-886b-4ad08239699c",
   "metadata": {
    "jp-MarkdownHeadingCollapsed": true
   },
   "source": [
    "INTERMEDIATE QUERIES"
   ]
  },
  {
   "cell_type": "markdown",
   "id": "219e6a65-a8c5-43af-9e53-ba541128a7e5",
   "metadata": {},
   "source": [
    "Calculate the number of orders per month in 2018."
   ]
  },
  {
   "cell_type": "code",
   "execution_count": null,
   "id": "112d4aac-5123-485b-98ec-20430b31f2cc",
   "metadata": {},
   "outputs": [],
   "source": [
    "query = \"\"\"select monthname(order_purchase_timestamp) months,count(order_id) order_count from orders\n",
    "where year(order_purchase_timestamp) = 2018 group by months \"\"\"\n",
    "cur.execute(query)\n",
    "data = cur.fetchall()\n",
    "df = pd.DataFrame(data,columns = [\"months\",\"order_count\"] )\n",
    "o = [\"January\", \"February\", \"March\", \"April\", \"May\", \"June\",\n",
    "    \"July\", \"August\", \"September\", \"October\", \"November\", \"December\"]\n",
    "\n",
    "ax = sns.barplot(x = df[\"months\"], y = df[\"order_count\"], order = o ,color = \"orange\")\n",
    "plt.xticks(rotation = 90)\n",
    "ax.bar_label(ax.containers[0])\n",
    "ax.set_xlabel(\"Months\")\n",
    "ax.set_ylabel(\"Orders\")\n",
    "plt.title(\"Orders per month in 2018\")\n",
    "# plt.figure(figsize=(8, 8))\n",
    "# plt.pie(df[\"order_count\"], labels=df[\"months\"], autopct='%1.1f%%', startangle=90)\n",
    "# plt.title(\"Orders per Month in 2018\")\n",
    "plt.show()\n",
    "\n",
    "# df = df.sort_values(by = \"Months\" , ascending = False)\n"
   ]
  },
  {
   "cell_type": "markdown",
   "id": "43f6ae07-acd4-42e6-a668-ff5d8a7d2ace",
   "metadata": {},
   "source": [
    "Find the average number of products per order, grouped by customer city."
   ]
  },
  {
   "cell_type": "code",
   "execution_count": null,
   "id": "440ab540-eaca-4a34-b7ef-5b24d0cc551c",
   "metadata": {},
   "outputs": [],
   "source": [
    "query = \"\"\"with count_per_order as (select orders.order_id, orders.customer_id,\n",
    "count(order_items.order_id) as oc \n",
    "from orders join order_items on orders.order_id = order_items.order_id\n",
    "group by orders.order_id, orders.customer_id)\n",
    "\n",
    "select customers.customer_city,round(avg(count_per_order.oc),2) average_orders\n",
    "from customers join count_per_order on \n",
    "customers.customer_id = count_per_order.customer_id\n",
    "group by customers.customer_city order by average_orders desc\n",
    "\"\"\"\n",
    "cur.execute(query)\n",
    "data = cur.fetchall()\n",
    "data\n",
    "\n",
    "df = pd.DataFrame(data, columns = [\"Customer City\",\"Average Orders/Order\"])\n",
    "df.head(10)\n"
   ]
  },
  {
   "cell_type": "markdown",
   "id": "1eb4e7cd-0720-44f8-ad25-5dd80ed8f5c5",
   "metadata": {},
   "source": [
    "Calculate the percentage of total revenue contributed by each product category."
   ]
  },
  {
   "cell_type": "code",
   "execution_count": null,
   "id": "7c6641d2-1bea-41a5-86b3-6f53457a04b7",
   "metadata": {},
   "outputs": [],
   "source": [
    "query = \"\"\"select products.product_category,\n",
    "round((sum(payments.payment_value)/(select sum(payment_value)\n",
    "from payments )) * 100,2) sales\n",
    "from payments join order_items on \n",
    "payments.order_id = order_items.order_id join \n",
    "products on products.product_id = order_items.product_id \n",
    "group by products.product_category order by sales desc;\n",
    "\n",
    "\"\"\"\n",
    "cur.execute(query)\n",
    "data = cur.fetchall()\n",
    "data\n",
    "\n",
    "df = pd.DataFrame(data)\n",
    "df\n"
   ]
  },
  {
   "cell_type": "markdown",
   "id": "b94e22e3-6e18-4252-9ca8-72384fdf7c6f",
   "metadata": {},
   "source": [
    "Identify the correlation between product price and the number of times a product has been purchased."
   ]
  },
  {
   "cell_type": "code",
   "execution_count": null,
   "id": "07212edf-1041-454f-8f41-8fb538f5b09a",
   "metadata": {},
   "outputs": [],
   "source": [
    "\n",
    "finding impact of price on order and vice versa(as value is approx to neutral(0) hence there is neutral relationship bw them)\n",
    "query = \"\"\"select products.product_category,\n",
    "count(order_items.product_id),\n",
    "round(avg(order_items.price),2)\n",
    "from products join order_items on \n",
    "products.product_id = order_items.product_id\n",
    "group by product_category;\n",
    "\n",
    "\"\"\"\n",
    "cur.execute(query)\n",
    "data = cur.fetchall()\n",
    "data\n",
    "\n",
    "df = pd.DataFrame(data, columns  = [\"Product Category\",\"Total Orders\",\"Avg Price\"])\n",
    "df\n",
    "\n",
    "\n",
    "arr1  = df[\"Total Orders\"]\n",
    "arr2 = df[\"Avg Price\"]\n",
    "\n",
    "np.corrcoef([arr1,arr2])"
   ]
  },
  {
   "cell_type": "markdown",
   "id": "5da5a175-d9d4-4327-a364-9eefd91ea885",
   "metadata": {},
   "source": [
    "Calculate the total revenue generated by each seller, and rank them by revenue.\n"
   ]
  },
  {
   "cell_type": "code",
   "execution_count": null,
   "id": "928a5b7d-2e3e-4d0f-b8c9-3f8293c68da2",
   "metadata": {},
   "outputs": [],
   "source": [
    "query = \"\"\"SELECT \n",
    "    seller_id,\n",
    "    revenue,\n",
    "    DENSE_RANK() OVER (ORDER BY revenue DESC) AS rn\n",
    "FROM (\n",
    "    SELECT \n",
    "        sellers.seller_id,\n",
    "        ROUND(SUM(payments.payment_value), 2) AS revenue\n",
    "    FROM sellers\n",
    "    JOIN order_items\n",
    "        ON sellers.seller_id = order_items.seller_id\n",
    "    JOIN payments\n",
    "        ON payments.order_id = order_items.order_id\n",
    "    GROUP BY sellers.seller_id\n",
    ") AS seller_revenue\n",
    "ORDER BY revenue DESC;\n",
    "\n",
    "\"\"\"\n",
    "cur.execute(query)\n",
    "data = cur.fetchall()\n",
    "data\n",
    "\n",
    "\n",
    "df = pd.DataFrame(data, columns = [\"seller_id\",\"revenue\",\"rank\"])\n",
    "df = df.head(5)\n",
    "sns.barplot(x = \"seller_id\", y = \"revenue\",data = df)\n",
    "plt.xticks(rotation = 90)\n",
    "plt.show()\n",
    "\n",
    "\n"
   ]
  },
  {
   "cell_type": "markdown",
   "id": "fef09439-d27e-4c06-bf6d-6f0b3259843f",
   "metadata": {},
   "source": [
    "ADVANCE QUERIES"
   ]
  },
  {
   "cell_type": "markdown",
   "id": "2ece349b-f5b7-4e3d-bb1f-6c517e178a4d",
   "metadata": {},
   "source": [
    "Calculate the moving average of order values for each customer over their order history.\n",
    "\n"
   ]
  },
  {
   "cell_type": "code",
   "execution_count": null,
   "id": "7a9da744-d6ce-4a61-aa19-1cdf16ad515d",
   "metadata": {},
   "outputs": [],
   "source": [
    "\n",
    "query = \"\"\"select customer_id, order_purchase_timestamp,payment,\n",
    "avg(payment) over (partition by customer_id \n",
    "order by  order_purchase_timestamp\n",
    "rows between 2 preceding and current row) as moving_avg\n",
    "from\n",
    "(select orders.customer_id,orders.order_purchase_timestamp,\n",
    "payments.payment_value as payment\n",
    "from payments join orders \n",
    "on payments.order_id = orders.order_id) as a; \n",
    "\"\"\"\n",
    "cur.execute(query)\n",
    "data = cur.fetchall()\n",
    "data\n",
    "\n",
    "\n",
    "df = pd.DataFrame(data, columns = [\"seller_id\",\"revenue\",\"rank\"])\n",
    "df = df.head(5)\n",
    "sns.barplot(x = \"seller_id\", y = \"revenue\",data = df)\n",
    "plt.xticks(rotation = 90)\n",
    "plt.show()\n"
   ]
  },
  {
   "cell_type": "markdown",
   "id": "b77eb144-0677-460b-9e8b-4c69dc135374",
   "metadata": {},
   "source": [
    "Calculate the cumulative sales per month for each year."
   ]
  },
  {
   "cell_type": "code",
   "execution_count": null,
   "id": "721f3d41-39f3-494d-a988-635078a01d05",
   "metadata": {},
   "outputs": [],
   "source": [
    "query = \"\"\"\n",
    "select years, months,payment, sum(payment)\n",
    "over(order by years, months) cumulative_sales from\n",
    "(select year(orders.order_purchase_timestamp) as years,\n",
    "month(orders.order_purchase_timestamp) as months,\n",
    "round(sum(payments.payment_value),2) as payment from \n",
    "orders join payments on payments.order_id = orders.order_id\n",
    "group by years,months order by years, months) as a;; \n",
    "\"\"\"\n",
    "cur.execute(query)\n",
    "data = cur.fetchall()\n",
    "df = pd.DataFrame(data)\n",
    "df\n"
   ]
  },
  {
   "cell_type": "markdown",
   "id": "52237605-270b-4226-b2cb-6a53501050a9",
   "metadata": {},
   "source": [
    "Calculate the year-over-year growth rate of total sales."
   ]
  },
  {
   "cell_type": "code",
   "execution_count": null,
   "id": "b4bf03ff-04bc-4f20-bf9c-9450839637a7",
   "metadata": {},
   "outputs": [],
   "source": [
    "query = \"\"\"\n",
    "with a as (select year(orders.order_purchase_timestamp) as years,\n",
    "round(sum(payments.payment_value),2) as payment from \n",
    "orders join payments on payments.order_id = orders.order_id\n",
    "group by years order by years)\n",
    "select years, payment, (payment - lag(payment,1) over(order by years))/ lag(payment,1) \n",
    "over(order by years) * 100 from a\n",
    "\"\"\"\n",
    "cur.execute(query)\n",
    "data = cur.fetchall()\n",
    "df = pd.DataFrame(data, columns = [\"years\",\"payment\",\"yoy % growth\"])\n",
    "df\n"
   ]
  },
  {
   "cell_type": "markdown",
   "id": "06335fa2-0545-4870-9687-70c0e4cdd51c",
   "metadata": {},
   "source": [
    "Calculate the retention rate of customers, defined as the\n",
    "percentage of customers who make another purchase within 6 months of their first purchase.\n",
    "\n"
   ]
  },
  {
   "cell_type": "code",
   "execution_count": null,
   "id": "11690748-83c1-46be-a39a-0576447a8232",
   "metadata": {},
   "outputs": [],
   "source": [
    "query = \"\"\"\n",
    "with a as (select customers.customer_id,min(orders.order_purchase_timestamp) first_order\n",
    "from customers join orders\n",
    "on customers.customer_id = orders.customer_id \n",
    "group by customers.customer_id),\n",
    "b as (select a.customer_id,count(distinct orders.order_purchase_timestamp) next_order\n",
    "from a join orders\n",
    "on orders.customer_id = a.customer_id\n",
    "and orders.order_purchase_timestamp > a.first_order\n",
    "and orders.order_purchase_timestamp < date_add(a.first_order, interval 6 month) group by a.customer_id)\n",
    "\n",
    "select 100 * (count(distinct a.customer_id) / count(distinct b.customer_id)) from a left join b on a.customer_id = b.customer_id;\n",
    "\"\"\"\n",
    "cur.execute(query)\n",
    "data = cur.fetchall()\n",
    "data\n",
    "df = pd.DataFrame(data)\n",
    "df"
   ]
  },
  {
   "cell_type": "markdown",
   "id": "9081054b-0972-4b82-bb1e-e4939e068127",
   "metadata": {},
   "source": [
    "Identify the top 3 customers who spent the most money in each year"
   ]
  },
  {
   "cell_type": "code",
   "execution_count": null,
   "id": "b583a153-b047-4622-b46e-654f4745e507",
   "metadata": {},
   "outputs": [],
   "source": [
    "query = \"\"\"\n",
    "select years,customer_id,payment,d_rank from\n",
    "(select year(orders.order_purchase_timestamp) years , orders.customer_id,\n",
    "sum(payments.payment_value) payment,\n",
    "dense_rank() over(partition by year(orders.order_purchase_timestamp)\n",
    "order by sum(payments.payment_value) desc) d_rank\n",
    "from orders join payments\n",
    "on payments.order_id = orders.order_id\n",
    "group by year(orders.order_purchase_timestamp),orders.customer_id) as a \n",
    "where d_rank <= 3;\n",
    "\"\"\"\n",
    "cur.execute(query)\n",
    "data = cur.fetchall()\n",
    "df = pd.DataFrame(data, columns = [\"years\",\"id\",\"payment\",\"rank\"])\n",
    "df\n",
    "\n",
    "sns.barplot(x = \"id\", y = \"payment\", data = df, hue = \"years\", palette = \"viridis\")\n",
    "plt.xticks(rotation = 90)\n",
    "plt.show()"
   ]
  },
  {
   "cell_type": "code",
   "execution_count": null,
   "id": "ff9b7685-9307-4cf3-b714-9eb387e578a1",
   "metadata": {
    "scrolled": true
   },
   "outputs": [],
   "source": [
    "# #\n",
    "\n",
    "\n",
    "\n",
    "\n",
    "# \n"
   ]
  },
  {
   "cell_type": "markdown",
   "id": "ea6f93d7-2b89-44f8-b47e-448a17e006e6",
   "metadata": {},
   "source": [
    "Calculate the cumulative sales per month for each year."
   ]
  },
  {
   "cell_type": "code",
   "execution_count": null,
   "id": "5cac996f-1c69-4c31-b651-ac0500bb131b",
   "metadata": {},
   "outputs": [],
   "source": []
  },
  {
   "cell_type": "code",
   "execution_count": null,
   "id": "22c66813-7514-4c5c-8050-2f211f4b4102",
   "metadata": {},
   "outputs": [],
   "source": []
  }
 ],
 "metadata": {
  "kernelspec": {
   "display_name": "Python 3 (ipykernel)",
   "language": "python",
   "name": "python3"
  },
  "language_info": {
   "codemirror_mode": {
    "name": "ipython",
    "version": 3
   },
   "file_extension": ".py",
   "mimetype": "text/x-python",
   "name": "python",
   "nbconvert_exporter": "python",
   "pygments_lexer": "ipython3",
   "version": "3.13.5"
  }
 },
 "nbformat": 4,
 "nbformat_minor": 5
}
